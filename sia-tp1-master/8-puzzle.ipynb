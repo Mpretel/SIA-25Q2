{
 "cells": [
  {
   "cell_type": "markdown",
   "id": "c96f7e37",
   "metadata": {},
   "source": [
    "# Ejercicio 1"
   ]
  },
  {
   "cell_type": "markdown",
   "id": "ecc16aae",
   "metadata": {},
   "source": [
    "*Espacio de acciones*:\n",
    "\n",
    " las acciones posibles son intercambiar el espacio vacío con cualquier de los números que se encuentren en las posiciones adyacentes. Como la única acción posible es el intercambio entre el espacio vacío y sus números adyacenetes, puede asignarse un único costo a cualquier acción (de 1).\n",
    "\n",
    "*Espacio de estados*:\n",
    "\n",
    " un estado queda determinado por la posición en el tablero de los 8 números, de modo que solo queda una posición disponible para el espacio vacío (0)\n",
    "\n",
    "*Condición de solución*:\n",
    "\n",
    " como estado _goal_ se tomó el \"tablero solución\" propuesto. \n",
    "\n",
    "*Heurísticas*\n",
    "\n",
    " Se proponen dos heurísticas $h(e)$ que cumplan $h(e_f) = 0$ en el estado final (_goal_) y $g(a) > 0~\\forall a \\rightarrow h(e)>0$ ya que siempre $g(a) = 1$.\n",
    "\n",
    " * Distancia Manhattan (de cada número con respecto a su posición final)\n",
    "    \n",
    "    Dadas las acciones permitidas del problema, donde solo se contemplan movimientos horizontales, proponemos como heurística la distancia Manhattan, aunque también se podría usarse la distancia euclídea (o de Tchebycheff).\n",
    "\n",
    "    Definiendo:\n",
    "    $$DM = \\sum_{i=1}^{N=8} \\left(d_{i,x} + d_{i,y}\\right) $$\n",
    "    donde $d_{i,x}$ es el módulo de la distancia horizontal del número $i$ a su casilla correspondiente en el estado final (en cantidad de casilleros) y $d_{i,y}$ el módulo de su distancia vertical.\n",
    "\n",
    "    Cuando $DM = 0$ entonces cada número (del 1 al 8) estará ubicado en su posición final, quedando el espacio vacío necesariamente en el centro.\n",
    "\n",
    "    Esta heurística es admisible ya que no sobreestima el costo real. Por ejemplo en el siguiente tablero:\n",
    "\n",
    "    $$\\begin{pmatrix}\n",
    "    1 & 2 & 3\\\\\n",
    "    8 & 0 & 4\\\\\n",
    "    6 & 7 & 5\n",
    "    \\end{pmatrix}$$\n",
    "\n",
    "    $DM = 2$, ya que tanto el 6 como el 7 están a distancia $1$ de su posición final. Sin embargo, como no es posible simplemente intercambiarlos entre sí, ni hacer movimientos en diagonal, el siguiente estado necesariamente tendrá un valor mayor de $DM$ que este, por más que sea un estado más cercano al _goal_.\n",
    "\n",
    "\n",
    "    *Sino se podría calcular la distancia de una forma más realista donde se contemple la cantidad de movimientos necesarios para llevar un número a su posición final. *\n",
    "\n",
    " * Cantidad de números mal posicionados\n",
    "    \n",
    "    En el estado final todos los números están bien posicionados, siendo $0$ la cantidad de números mal posicionados. Se puede definir como heurística a la cantidad de números (del 1 al 8) mal posicionados, quedando el 0 necesariamente en el centro. En este caso la heurística tampoco sobreestima el costo real, ya que dos números pueden estar mal posicionados pero requerirse una gran cantidad de acciones para alcanzar el estado final:\n",
    "\n",
    "    $$\\begin{pmatrix}\n",
    "    1 & 2 & 7\\\\\n",
    "    8 & 0 & 4\\\\\n",
    "    3 & 6 & 5\n",
    "    \\end{pmatrix}$$\n",
    "\n",
    "*Métodos de búsqueda*\n",
    "\n",
    "\n",
    "\n",
    "Acá podemos hacer el comentario de cómo sería si consideráramos la simetría. Tendriamos 16 soluciones y podrías comparar contra todas o recorrer el borde del cuadrado para un lado y para el otro y ver si estan ordenados.  \n"
   ]
  },
  {
   "cell_type": "markdown",
   "id": "6c4866dd",
   "metadata": {},
   "source": [
    "# Ejercicio 2"
   ]
  },
  {
   "cell_type": "markdown",
   "id": "faa52374",
   "metadata": {},
   "source": [
    "Estructura de estado:\n",
    "\n",
    "*Objetivo*:\n",
    "\n",
    " Ubicar todas las cajas en celdas objetivo. \n",
    "\n",
    "*Espacio de acciones*:\n",
    "\n",
    " las acciones posibles son desplazar el jugador hacia posiciones adyacentes (arriba, abajo, izquierda o derecha), siempre y cuando sea una celda vacía o una celda objetivo, o una caja que sea posible de mover (que no haya otra caja o pared detrás de ella). Todas las acciones tienen un único costo de 1.\n",
    "\n",
    "*Espacio de estados*:\n",
    "\n",
    " posición del jugador, de las cajas, de las celdas objetivos y de las paredes. \n",
    "\n",
    "*Condición de solución*:\n",
    "\n",
    "  como estado _goal_ se tomó que no queden cajas fuera de celdas objetivo. "
   ]
  }
 ],
 "metadata": {
  "language_info": {
   "name": "python"
  }
 },
 "nbformat": 4,
 "nbformat_minor": 5
}

{
 "cells": [
  {
   "cell_type": "markdown",
   "id": "ccac516e",
   "metadata": {},
   "source": [
    "### Ejercicio 1\n",
    "\n",
    "Individuo: cuadrado de 8x8 donde representar los distintos caracteres. Las imágenes deben ser de dimensiones múltiplos de 8 (o se reescalan)\n",
    "\n",
    "Cada individuo tiene X genes según la cantidad de X caracteres con los cuales se puede representar la imagen (la del gatito no tiene todos los caracteres ASCII). Los genes son de 1-bit, con lo cual cada caracter puede estar encendido o apagado. Se habilita la superposición de caracteres (como se ve en el ejemplo del gatito), con lo cual un solo individuo puede tener varios caracteres encendidos.\n",
    "\n",
    "En el caso del gatito parece ser que como mucho puede haber 2/3 caracteres encendidos en una misma posición, con lo cual podría limitarse para cada cromosoma que solo pueda haber dos genes activos.\n",
    "\n",
    "Así, para cada individuo de 8x8 surgirán distintos cromosomas posibles, que se pueden recombinar y mutar para buscar al individuo que mejor aproxime esa porción de la imagen.\n",
    "\n",
    "La función de fitness será una medida de la efectividad de la reconstrucción de la imagen total, como un % de éxito en el solapamiento entre píxeles prendidos y apagados.\n",
    "\n",
    "También se habilita la posibilidad de que los genes sean de 8-bits, de modo que cada caracter pueda estar coloreado con un nivel de gris distinto (entre 0: negro y 255: blanco).\n",
    "\n",
    "\n",
    "\n"
   ]
  },
  {
   "cell_type": "markdown",
   "id": "530e28b9",
   "metadata": {},
   "source": [
    "### Ejercicio 2\n",
    "\n",
    "Individuo: la imagen combinación de todos los triángulos\n",
    "\n",
    "Cada triángulo es un gen del cromosoma de cada individuo que tiene: {color(R)(G)(B)(A)8-bits c/u}{posicion vertices(x1)(y1)(x2)(y2)(x3)(y3)¿8-bits c/u?}\n",
    "\n",
    "El fitness será comparar cada individuo con la imagen objetivo (% de parecido pixel a pixel).\n",
    "\n",
    "Quizás: recombinación de a conjuntos de triángulos enteros entre imágenes, y mutación con cambio de color y posición.\n",
    "\n",
    "\n",
    "\n"
   ]
  }
 ],
 "metadata": {
  "language_info": {
   "name": "python"
  }
 },
 "nbformat": 4,
 "nbformat_minor": 5
}
